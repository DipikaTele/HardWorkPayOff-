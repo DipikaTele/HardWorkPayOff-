{
 "cells": [
  {
   "cell_type": "code",
   "execution_count": 22,
   "metadata": {},
   "outputs": [],
   "source": [
    "import numpy as np \n",
    "import pandas as pd\n",
    "from sklearn.linear_model import LinearRegression\n",
    "from sklearn.metrics import mean_squared_error,mean_absolute_error\n",
    "from sklearn.model_selection import train_test_split"
   ]
  },
  {
   "cell_type": "code",
   "execution_count": 37,
   "metadata": {},
   "outputs": [
    {
     "name": "stdout",
     "output_type": "stream",
     "text": [
      "x    0\n",
      "dtype: int64 y    0\n",
      "dtype: int64\n"
     ]
    }
   ],
   "source": [
    "#Building model\n",
    "X=pd.read_csv(r\"C:\\Users\\Dipika\\Downloads\\Linear_X_Train.csv\")\n",
    "Y=pd.read_csv(r\"C:\\Users\\Dipika\\Downloads\\Linear_Y_Train.csv\")\n",
    "X_train,X_test,Y_train,Y_test=train_test_split(X,Y,test_size=0.4,random_state=10)\n",
    "print(X.isnull().sum(),Y.isnull().sum())"
   ]
  },
  {
   "cell_type": "code",
   "execution_count": 38,
   "metadata": {},
   "outputs": [
    {
     "name": "stdout",
     "output_type": "stream",
     "text": [
      "training_accuracy : 0.9713461243784723\n",
      "testing_accuracy : 0.97035607922334\n",
      "error:  11.102246606730363\n"
     ]
    }
   ],
   "source": [
    "#Validating LinearRegression\n",
    "model=LinearRegression().fit(X_train,Y_train)\n",
    "pred_y=model.predict(X_test)\n",
    "training_accuracy=model.score(X_train,Y_train)\n",
    "testing_accuracy=model.score(X_test,Y_test)\n",
    "print(\"training_accuracy :\",training_accuracy)\n",
    "print(\"testing_accuracy :\",testing_accuracy)\n",
    "print(\"error: \",mean_absolute_error(Y_test,pred_y))"
   ]
  },
  {
   "cell_type": "markdown",
   "metadata": {},
   "source": [
    "Conclusion , As score is above 95% that means this means LinearRegression gives overfit model though error is less"
   ]
  },
  {
   "cell_type": "code",
   "execution_count": 39,
   "metadata": {},
   "outputs": [],
   "source": [
    "from sklearn.tree import DecisionTreeRegressor\n",
    "def model(method):\n",
    "    model=DecisionTreeRegressor(criterion=method).fit(X_train,Y_train)\n",
    "    pred_y=model.predict(X_test)\n",
    "    training_accuracy=model.score(X_train,Y_train)\n",
    "    testing_accuracy=model.score(X_test,Y_test)\n",
    "    print(\"training_accuracy :\",training_accuracy)\n",
    "    print(\"testing_accuracy :\",testing_accuracy)\n",
    "    print(\"error: \",mean_absolute_error(Y_test,pred_y))"
   ]
  },
  {
   "cell_type": "code",
   "execution_count": 40,
   "metadata": {},
   "outputs": [
    {
     "name": "stdout",
     "output_type": "stream",
     "text": [
      "training_accuracy : 1.0\n",
      "testing_accuracy : 0.9399629103335192\n",
      "error:  15.752918140010001\n"
     ]
    }
   ],
   "source": [
    "model('mse')"
   ]
  },
  {
   "cell_type": "code",
   "execution_count": 48,
   "metadata": {},
   "outputs": [
    {
     "name": "stdout",
     "output_type": "stream",
     "text": [
      "training_accuracy : 0.8781968772011938\n",
      "testing_accuracy : 0.8784625867410017\n",
      "error:  16.052455890665005\n"
     ]
    }
   ],
   "source": [
    "from sklearn import svm\n",
    "model=svm.SVR(kernel='rbf',C=1).fit(X_train,Y_train.values.ravel())\n",
    "pred_y=model.predict(X_test)\n",
    "training_accuracy=model.score(X_train,Y_train)\n",
    "testing_accuracy=model.score(X_test,Y_test)\n",
    "print(\"training_accuracy :\",training_accuracy)\n",
    "print(\"testing_accuracy :\",testing_accuracy)\n",
    "print(\"error: \",mean_absolute_error(Y_test,pred_y))"
   ]
  },
  {
   "cell_type": "code",
   "execution_count": 49,
   "metadata": {},
   "outputs": [],
   "source": [
    "from sklearn.ensemble import RandomForestRegressor,GradientBoostingRegressor,BaggingRegressor"
   ]
  },
  {
   "cell_type": "code",
   "execution_count": 53,
   "metadata": {},
   "outputs": [
    {
     "name": "stdout",
     "output_type": "stream",
     "text": [
      "training_accuracy : 0.9805142294666102\n",
      "testing_accuracy : 0.9437139257577082\n",
      "error:  15.272892804476665\n"
     ]
    }
   ],
   "source": [
    "model=RandomForestRegressor(n_estimators=1).fit(X_train,Y_train.values.ravel())\n",
    "pred_y=model.predict(X_test)\n",
    "training_accuracy=model.score(X_train,Y_train)\n",
    "testing_accuracy=model.score(X_test,Y_test)\n",
    "print(\"training_accuracy :\",training_accuracy)\n",
    "print(\"testing_accuracy :\",testing_accuracy)\n",
    "print(\"error: \",mean_absolute_error(Y_test,pred_y))"
   ]
  },
  {
   "cell_type": "code",
   "execution_count": 59,
   "metadata": {},
   "outputs": [
    {
     "name": "stdout",
     "output_type": "stream",
     "text": [
      "training_accuracy : 0.9409366072783077\n",
      "testing_accuracy : 0.9345156706294874\n",
      "error:  15.9475592767673\n"
     ]
    }
   ],
   "source": [
    "model=GradientBoostingRegressor(n_estimators=17).fit(X_train,Y_train.values.ravel())\n",
    "pred_y=model.predict(X_test)\n",
    "training_accuracy=model.score(X_train,Y_train)\n",
    "testing_accuracy=model.score(X_test,Y_test)\n",
    "print(\"training_accuracy :\",training_accuracy)\n",
    "print(\"testing_accuracy :\",testing_accuracy)\n",
    "print(\"error: \",mean_absolute_error(Y_test,pred_y))"
   ]
  },
  {
   "cell_type": "code",
   "execution_count": 61,
   "metadata": {},
   "outputs": [
    {
     "name": "stdout",
     "output_type": "stream",
     "text": [
      "training_accuracy : 0.9794565225762604\n",
      "testing_accuracy : 0.9410474981008314\n",
      "error:  15.621486357580666\n"
     ]
    }
   ],
   "source": [
    "model=BaggingRegressor(n_estimators=1).fit(X_train,Y_train.values.ravel())\n",
    "pred_y=model.predict(X_test)\n",
    "training_accuracy=model.score(X_train,Y_train)\n",
    "testing_accuracy=model.score(X_test,Y_test)\n",
    "print(\"training_accuracy :\",training_accuracy)\n",
    "print(\"testing_accuracy :\",testing_accuracy)\n",
    "print(\"error: \",mean_absolute_error(Y_test,pred_y))"
   ]
  },
  {
   "cell_type": "markdown",
   "metadata": {},
   "source": [
    "#### Conclusion : \n",
    "1.As GradientBoostingRegressor gives training_accuracy : 0.9409366072783077, testing_accuracy : 0.9345156706294874,\n",
    "error:  15.9475592767673 with n =17 that means this is best fit model with less error, we accept this model\n",
    "2. As Svm gives training_accuracy : 0.8781968772011938,testing_accuracy : 0.8784625867410017,\n",
    "error:  16.052455890665005 with kernel ='rbf'that means this model we can also accept as best fit model."
   ]
  },
  {
   "cell_type": "code",
   "execution_count": 62,
   "metadata": {},
   "outputs": [
    {
     "ename": "SyntaxError",
     "evalue": "invalid syntax (<ipython-input-62-f188d5ac1197>, line 1)",
     "output_type": "error",
     "traceback": [
      "\u001b[1;36m  File \u001b[1;32m\"<ipython-input-62-f188d5ac1197>\"\u001b[1;36m, line \u001b[1;32m1\u001b[0m\n\u001b[1;33m    git init\u001b[0m\n\u001b[1;37m           ^\u001b[0m\n\u001b[1;31mSyntaxError\u001b[0m\u001b[1;31m:\u001b[0m invalid syntax\n"
     ]
    }
   ],
   "source": []
  },
  {
   "cell_type": "code",
   "execution_count": null,
   "metadata": {},
   "outputs": [],
   "source": []
  }
 ],
 "metadata": {
  "kernelspec": {
   "display_name": "Python 3",
   "language": "python",
   "name": "python3"
  },
  "language_info": {
   "codemirror_mode": {
    "name": "ipython",
    "version": 3
   },
   "file_extension": ".py",
   "mimetype": "text/x-python",
   "name": "python",
   "nbconvert_exporter": "python",
   "pygments_lexer": "ipython3",
   "version": "3.7.0"
  }
 },
 "nbformat": 4,
 "nbformat_minor": 2
}
